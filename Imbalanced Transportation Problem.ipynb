{
 "cells": [
  {
   "cell_type": "code",
   "execution_count": 1,
   "id": "6b9986f9",
   "metadata": {},
   "outputs": [],
   "source": [
    "from pulp import *\n",
    "import pandas as pd\n",
    "import numpy as np"
   ]
  },
  {
   "cell_type": "code",
   "execution_count": 2,
   "id": "274350ec",
   "metadata": {},
   "outputs": [],
   "source": [
    "##sample data.  all dictionaries for better indexing\n",
    "##this would ideally be in csv format and would be indexed, changed to matrix (numpy) and added into the \n",
    "##multi-commodity model\n",
    "products=[\"first_product\",\"second_product\",\"third_product\"]\n",
    "\n",
    "ORIG= [\"GARY\",\n",
    "       \"CLEV\",\n",
    "       \"PITT\",\n",
    "       \"Order_More\"]\n",
    "\n",
    "##supply at each origin\n",
    "supply_1=np.array([400,700,800])\n",
    "supply_2=np.array([8000,1600,1800])\n",
    "supply_3=np.array([200,300,3000])\n",
    "\n",
    "\n",
    "supply=[]\n",
    "supply.append(supply_1)\n",
    "supply.append(supply_2)\n",
    "supply.append(supply_3)\n",
    "\n",
    "        \n",
    "DEST=[\"FRA\",\n",
    "      \"DET\",\n",
    "      \"LAN\",\n",
    "      \"WIN\",\n",
    "      \"STL\",\n",
    "      \"FRE\",\n",
    "      \"LAF\",\n",
    "      \"Inventory\"]\n",
    "\n",
    "##demand at each destination\n",
    "demand_1=np.array([4000,300,100,75,650,225,250])\n",
    "demand_2=np.array([500,750,400,250,950,850,500])\n",
    "demand_3=np.array([100,100,0,50,200,100,250])\n",
    "\n",
    "demand=[]\n",
    "demand.append(demand_1)\n",
    "demand.append(demand_2)\n",
    "demand.append(demand_3)\n",
    "\n",
    "##demand sums\n",
    "sum_demand=[]\n",
    "for i in range(0,len(demand)):\n",
    "    sum_demand.append(sum(demand[i]))\n",
    "\n",
    "##supply sums\n",
    "sum_supply=[]\n",
    "for i in range(0,len(supply)):\n",
    "    sum_supply.append(sum(supply[i]))\n",
    "    \n",
    "##indexing which is greatest accordingly.  taking care of the dummy variable\n",
    "dummy_sup=[]\n",
    "dummy_dem=[]\n",
    "\n",
    "for i in range(0,len(supply)):\n",
    "    test_supply=[supply[i][x] for x in range(0,len(supply[i]))]\n",
    "    test_demand=[demand[i][x] for x in range(0,len(demand[i]))]\n",
    "    test_demand=[demand[i][x] for x in range(0,len(demand[i]))]\n",
    "    ##check to determine if supply or demand is greater.  each possibility is thought of and taken care\n",
    "    if sum_demand[i]>sum_supply[i]:\n",
    "        dummy_sup.append(np.append(test_supply,sum_demand[i]-sum_supply[i]))\n",
    "        dummy_dem.append(np.append(test_demand,0))\n",
    "    elif sum_demand[i]<sum_supply[i]:\n",
    "        dummy_dem.append(np.append(test_demand,sum_supply[i]-sum_demand[i]))\n",
    "        dummy_sup.append(np.append(test_supply,0))\n",
    "    elif sum_demand[i]==sum_supply[i]:\n",
    "        dummy_dem.append(np.append(test_demand,0))\n",
    "        dummy_sup.append(np.append(test_supply,0))\n",
    "        \n",
    "supply=dummy_sup\n",
    "demand=dummy_dem\n",
    "demand=np.array(demand)\n",
    "supply=np.array(supply)\n",
    "\n",
    "##dictionaries so that the names can be used in the output\n",
    "##dictionary for demand\n",
    "DEMAND={}\n",
    "for p in range(0,len(products)):\n",
    "    for d in range(0,len(DEST)):\n",
    "        DEMAND[(products[p],DEST[d])]=demand[p,d]\n",
    "\n",
    "##dictionary for supply\n",
    "SUPPLY={}\n",
    "for p in range(0,len(products)):\n",
    "    for o in range(0,len(ORIG)):\n",
    "        SUPPLY[(products[p],ORIG[o])]=supply[p,o]\n",
    "\n",
    "##time matrix.  cost or money.  depends on what is attempting to be minimized\n",
    "ship_from_1=np.array([[39,14,11,14,16,82,8,0],\n",
    "                      [27,9,12,9,26,95,17,0],\n",
    "                      [24,14,17,13,28,99,20,0],\n",
    "                       np.zeros(len(DEST))])\n",
    "\n",
    "ship_from_2=np.array([[39,14,11,14,16,82,8,0],\n",
    "                      [27,9,12,9,26,95,17,0],\n",
    "                      [24,14,17,13,28,99,20,0],\n",
    "                       np.zeros(len(DEST))])\n",
    "\n",
    "ship_from_3=np.array([[39,14,11,14,16,82,8,0],\n",
    "                      [27,9,12,9,26,95,17,0],\n",
    "                      [24,14,17,13,28,99,20,0],\n",
    "                       np.zeros(len(DEST))])\n",
    "\n",
    "##able to use a shipping limit to for each hub if needed\n",
    "ship_cost=[]\n",
    "ship_cost.append(ship_from_1)\n",
    "ship_cost.append(ship_from_2)\n",
    "ship_cost.append(ship_from_3)\n",
    "ship_cost=np.array(ship_cost)\n",
    "\n",
    "##constructing a dictionary to keep costs of transporting from one \n",
    "##origin to another destination\n",
    "Cost={}\n",
    "for p in range(0,len(products)):\n",
    "    for o in range(0,len(ORIG)):\n",
    "        for d in range(0,len(DEST)):\n",
    "            Cost[(products[p],ORIG[o],DEST[d])]=ship_cost[p,o,d]"
   ]
  },
  {
   "cell_type": "code",
   "execution_count": 3,
   "id": "5ffc00ee",
   "metadata": {},
   "outputs": [],
   "source": [
    "##defined decision variable\n",
    "##amounts to be transported from origin points to destination points\n",
    "Trans = pulp.LpVariable.dicts('Units_to_be_shipped_Origin_destination', [(p,o,d) for p in products for o in ORIG for d in DEST],\n",
    "                            lowBound =0,\n",
    "                            cat = 'Integer')\n"
   ]
  },
  {
   "cell_type": "code",
   "execution_count": 4,
   "id": "f1c81a99",
   "metadata": {},
   "outputs": [],
   "source": [
    "##objective function\n",
    "model = LpProblem(\"Supply_and_Demand\", LpMinimize)\n",
    "model += lpSum([Cost[(p,o,d)]*Trans[(p,o,d)] for p in products for o in ORIG for d in DEST])"
   ]
  },
  {
   "cell_type": "code",
   "execution_count": 5,
   "id": "c496f579",
   "metadata": {},
   "outputs": [],
   "source": [
    "##could be conditional here on case by case basis.\n",
    "for p in products:\n",
    "    for o in ORIG:\n",
    "        model += lpSum([Trans[p,o,d] for d in DEST]) == SUPPLY[p,o] \n",
    "\n",
    "##must have more than or equal to demand.    \n",
    "for p in products:\n",
    "    for d in DEST:\n",
    "        model += lpSum([Trans[p,o,d] for o in ORIG])== DEMAND[p,d]"
   ]
  },
  {
   "cell_type": "code",
   "execution_count": 6,
   "id": "784a67ba",
   "metadata": {},
   "outputs": [
    {
     "data": {
      "text/plain": [
       "1"
      ]
     },
     "execution_count": 6,
     "metadata": {},
     "output_type": "execute_result"
    }
   ],
   "source": [
    "model.solve()"
   ]
  },
  {
   "cell_type": "code",
   "execution_count": 7,
   "id": "579f38eb",
   "metadata": {},
   "outputs": [
    {
     "name": "stdout",
     "output_type": "stream",
     "text": [
      "Status: Optimal \n",
      "\n"
     ]
    }
   ],
   "source": [
    "##optimal solution found?\n",
    "print(\"Status:\", LpStatus[model.status], \"\\n\")"
   ]
  },
  {
   "cell_type": "code",
   "execution_count": 8,
   "id": "b9ff9454",
   "metadata": {},
   "outputs": [
    {
     "name": "stdout",
     "output_type": "stream",
     "text": [
      "Units_to_be_shipped_Origin_destination_('first_product',_'CLEV',_'DET') = 300.0\n",
      "Units_to_be_shipped_Origin_destination_('first_product',_'CLEV',_'LAF') = 225.0\n",
      "Units_to_be_shipped_Origin_destination_('first_product',_'CLEV',_'LAN') = 100.0\n",
      "Units_to_be_shipped_Origin_destination_('first_product',_'CLEV',_'WIN') = 75.0\n",
      "Units_to_be_shipped_Origin_destination_('first_product',_'GARY',_'LAF') = 25.0\n",
      "Units_to_be_shipped_Origin_destination_('first_product',_'GARY',_'STL') = 375.0\n",
      "Units_to_be_shipped_Origin_destination_('first_product',_'Order_More',_'FRA') = 3200.0\n",
      "Units_to_be_shipped_Origin_destination_('first_product',_'Order_More',_'FRE') = 225.0\n",
      "Units_to_be_shipped_Origin_destination_('first_product',_'Order_More',_'STL') = 275.0\n",
      "Units_to_be_shipped_Origin_destination_('first_product',_'PITT',_'FRA') = 800.0\n",
      "Units_to_be_shipped_Origin_destination_('second_product',_'CLEV',_'DET') = 750.0\n",
      "Units_to_be_shipped_Origin_destination_('second_product',_'CLEV',_'Inventory') = 600.0\n",
      "Units_to_be_shipped_Origin_destination_('second_product',_'CLEV',_'WIN') = 250.0\n",
      "Units_to_be_shipped_Origin_destination_('second_product',_'GARY',_'FRE') = 850.0\n",
      "Units_to_be_shipped_Origin_destination_('second_product',_'GARY',_'Inventory') = 5300.0\n",
      "Units_to_be_shipped_Origin_destination_('second_product',_'GARY',_'LAF') = 500.0\n",
      "Units_to_be_shipped_Origin_destination_('second_product',_'GARY',_'LAN') = 400.0\n",
      "Units_to_be_shipped_Origin_destination_('second_product',_'GARY',_'STL') = 950.0\n",
      "Units_to_be_shipped_Origin_destination_('second_product',_'PITT',_'FRA') = 500.0\n",
      "Units_to_be_shipped_Origin_destination_('second_product',_'PITT',_'Inventory') = 1300.0\n",
      "Units_to_be_shipped_Origin_destination_('third_product',_'CLEV',_'DET') = 100.0\n",
      "Units_to_be_shipped_Origin_destination_('third_product',_'CLEV',_'LAF') = 150.0\n",
      "Units_to_be_shipped_Origin_destination_('third_product',_'CLEV',_'WIN') = 50.0\n",
      "Units_to_be_shipped_Origin_destination_('third_product',_'GARY',_'FRE') = 100.0\n",
      "Units_to_be_shipped_Origin_destination_('third_product',_'GARY',_'LAF') = 100.0\n",
      "Units_to_be_shipped_Origin_destination_('third_product',_'PITT',_'FRA') = 100.0\n",
      "Units_to_be_shipped_Origin_destination_('third_product',_'PITT',_'Inventory') = 2700.0\n",
      "Units_to_be_shipped_Origin_destination_('third_product',_'PITT',_'STL') = 200.0\n"
     ]
    }
   ],
   "source": [
    "for v in model.variables():\n",
    "    if v.varValue>0:\n",
    "        print(v.name,\"=\", v.varValue)  "
   ]
  },
  {
   "cell_type": "code",
   "execution_count": 9,
   "id": "471d5b91",
   "metadata": {},
   "outputs": [
    {
     "data": {
      "text/plain": [
       "169000.0"
      ]
     },
     "execution_count": 9,
     "metadata": {},
     "output_type": "execute_result"
    }
   ],
   "source": [
    "value(model.objective) "
   ]
  },
  {
   "cell_type": "code",
   "execution_count": 10,
   "id": "b63e4234",
   "metadata": {},
   "outputs": [],
   "source": [
    "##can be put into a csv or ran and manually input by a tech or \n",
    "##client staff\n",
    "\n",
    "##creating arbitrary csv for each separate product.  can be fine-tuned.\n",
    "results_dataframes=[]\n",
    "\n",
    "for d in DEST:\n",
    "    results_dataframes.append(pd.DataFrame())\n",
    "    \n",
    "##need a way to visualize results.  at least have a separate csv for each destination\n",
    "for d in range(0,len(DEST)):\n",
    "    ##indices where d is in than for each origin\n",
    "    results_dataframes[d]['Origin']=ORIG\n",
    "    for p in products:\n",
    "        insert_=[]\n",
    "        for o in ORIG:  \n",
    "            for v in model.variables():\n",
    "                if p in v.name and DEST[d] in v.name and o in v.name:\n",
    "                    insert_.append(v.varValue)\n",
    "        results_dataframes[d][p+\"_to_\"+DEST[d]]=insert_"
   ]
  },
  {
   "cell_type": "code",
   "execution_count": 11,
   "id": "2b019afd",
   "metadata": {},
   "outputs": [
    {
     "data": {
      "text/html": [
       "<div>\n",
       "<style scoped>\n",
       "    .dataframe tbody tr th:only-of-type {\n",
       "        vertical-align: middle;\n",
       "    }\n",
       "\n",
       "    .dataframe tbody tr th {\n",
       "        vertical-align: top;\n",
       "    }\n",
       "\n",
       "    .dataframe thead th {\n",
       "        text-align: right;\n",
       "    }\n",
       "</style>\n",
       "<table border=\"1\" class=\"dataframe\">\n",
       "  <thead>\n",
       "    <tr style=\"text-align: right;\">\n",
       "      <th></th>\n",
       "      <th>Origin</th>\n",
       "      <th>first_product_to_FRA</th>\n",
       "      <th>second_product_to_FRA</th>\n",
       "      <th>third_product_to_FRA</th>\n",
       "    </tr>\n",
       "  </thead>\n",
       "  <tbody>\n",
       "    <tr>\n",
       "      <th>0</th>\n",
       "      <td>GARY</td>\n",
       "      <td>0.0</td>\n",
       "      <td>0.0</td>\n",
       "      <td>0.0</td>\n",
       "    </tr>\n",
       "    <tr>\n",
       "      <th>1</th>\n",
       "      <td>CLEV</td>\n",
       "      <td>0.0</td>\n",
       "      <td>0.0</td>\n",
       "      <td>0.0</td>\n",
       "    </tr>\n",
       "    <tr>\n",
       "      <th>2</th>\n",
       "      <td>PITT</td>\n",
       "      <td>800.0</td>\n",
       "      <td>500.0</td>\n",
       "      <td>100.0</td>\n",
       "    </tr>\n",
       "    <tr>\n",
       "      <th>3</th>\n",
       "      <td>Order_More</td>\n",
       "      <td>3200.0</td>\n",
       "      <td>0.0</td>\n",
       "      <td>0.0</td>\n",
       "    </tr>\n",
       "  </tbody>\n",
       "</table>\n",
       "</div>"
      ],
      "text/plain": [
       "       Origin  first_product_to_FRA  second_product_to_FRA  \\\n",
       "0        GARY                   0.0                    0.0   \n",
       "1        CLEV                   0.0                    0.0   \n",
       "2        PITT                 800.0                  500.0   \n",
       "3  Order_More                3200.0                    0.0   \n",
       "\n",
       "   third_product_to_FRA  \n",
       "0                   0.0  \n",
       "1                   0.0  \n",
       "2                 100.0  \n",
       "3                   0.0  "
      ]
     },
     "execution_count": 11,
     "metadata": {},
     "output_type": "execute_result"
    }
   ],
   "source": [
    "results_dataframes[0]"
   ]
  },
  {
   "cell_type": "code",
   "execution_count": 12,
   "id": "aee44460",
   "metadata": {},
   "outputs": [],
   "source": [
    "for d in range(0,len(DEST)):\n",
    "    results_dataframes[d].to_csv(DEST[d]+\"_Orders_for_Products.csv\")"
   ]
  }
 ],
 "metadata": {
  "kernelspec": {
   "display_name": "Python 3 (ipykernel)",
   "language": "python",
   "name": "python3"
  },
  "language_info": {
   "codemirror_mode": {
    "name": "ipython",
    "version": 3
   },
   "file_extension": ".py",
   "mimetype": "text/x-python",
   "name": "python",
   "nbconvert_exporter": "python",
   "pygments_lexer": "ipython3",
   "version": "3.10.9"
  }
 },
 "nbformat": 4,
 "nbformat_minor": 5
}
